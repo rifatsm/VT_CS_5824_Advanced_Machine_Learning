{
 "cells": [
  {
   "cell_type": "markdown",
   "metadata": {},
   "source": [
    "# ECE-5424 / CS-5824 Advanced Machine Learning\n",
    "# Assignment 3: Fully-Connected Neural Nets\n"
   ]
  },
  {
   "cell_type": "markdown",
   "metadata": {},
   "source": [
    "## Submission guideline\n",
    "\n",
    "1. Click the Save button at the top of the Jupyter Notebook.\n",
    "2. Please make sure to have entered your Virginia Tech PID below.\n",
    "3. Select Cell -> All Output -> Clear. This will clear all the outputs from all cells (but will keep the content of ll cells).\n",
    "4. Select Cell -> Run All. This will run all the cells in order.\n",
    "5. Once you've rerun everything, select File -> Download as -> PDF via LaTeX\n",
    "6. Look at the PDF file and make sure all your solutions are there, displayed correctly. \n",
    "7. Zip the all the files along with this notebook (Please don't include the data)\n",
    "8. Submit your zipped file and the PDF **INDEPENDENTLY**."
   ]
  },
  {
   "cell_type": "markdown",
   "metadata": {},
   "source": [
    "### Please Write Your VT PID Here: rifatsm"
   ]
  },
  {
   "cell_type": "markdown",
   "metadata": {},
   "source": [
    "## Introduction\n",
    "\n",
    "In this exercise we will implement fully-connected networks using a more modular approach. For each layer we will implement a `forward` and a `backward` function. The `forward` function will receive inputs, weights, and other parameters and will return both an output and a `cache` object storing data needed for the backward pass, like this:\n",
    "\n",
    "```python\n",
    "def layer_forward(x, w):\n",
    "  \"\"\" Receive inputs x and weights w \"\"\"\n",
    "  # Do some computations ...\n",
    "  z = # ... some intermediate value\n",
    "  # Do some more computations ...\n",
    "  out = # the output\n",
    "   \n",
    "  cache = (x, w, z, out) # Values we need to compute gradients\n",
    "   \n",
    "  return out, cache\n",
    "```\n",
    "\n",
    "The backward pass will receive upstream derivatives and the `cache` object, and will return gradients with respect to the inputs and weights, like this:\n",
    "\n",
    "```python\n",
    "def layer_backward(dout, cache):\n",
    "  \"\"\"\n",
    "  Receive dout (derivative of loss with respect to outputs) and cache,\n",
    "  and compute derivative with respect to inputs.\n",
    "  \"\"\"\n",
    "  # Unpack cache values\n",
    "  x, w, z, out = cache\n",
    "  \n",
    "  # Use values in cache to compute derivatives\n",
    "  dx = # Derivative of loss with respect to x\n",
    "  dw = # Derivative of loss with respect to w\n",
    "  \n",
    "  return dx, dw\n",
    "```\n",
    "\n",
    "After implementing a bunch of layers this way, we will be able to easily combine them to build classifiers with different architectures.\n",
    "\n",
    "\n",
    "This assignment is borrowed and modified from [Stanford CS231](http://cs231n.stanford.edu/).\n",
    "\n",
    "\n",
    "\n",
    "\n"
   ]
  },
  {
   "cell_type": "code",
   "execution_count": 1,
   "metadata": {},
   "outputs": [],
   "source": [
    "# As usual, a bit of setup\n",
    "from __future__ import print_function\n",
    "import time\n",
    "import numpy as np\n",
    "import matplotlib.pyplot as plt\n",
    "from cs231n.classifiers.fc_net import *\n",
    "from cs231n.data_utils import get_CIFAR10_data\n",
    "from cs231n.gradient_check import eval_numerical_gradient, eval_numerical_gradient_array\n",
    "from cs231n.solver import Solver\n",
    "\n",
    "%matplotlib inline\n",
    "plt.rcParams['figure.figsize'] = (10.0, 8.0) # set default size of plots\n",
    "plt.rcParams['image.interpolation'] = 'nearest'\n",
    "plt.rcParams['image.cmap'] = 'gray'\n",
    "\n",
    "# for auto-reloading external modules\n",
    "# see http://stackoverflow.com/questions/1907993/autoreload-of-modules-in-ipython\n",
    "%load_ext autoreload\n",
    "%autoreload 2\n",
    "\n",
    "def rel_error(x, y):\n",
    "  \"\"\" returns relative error \"\"\"\n",
    "  return np.max(np.abs(x - y) / (np.maximum(1e-8, np.abs(x) + np.abs(y))))"
   ]
  },
  {
   "cell_type": "markdown",
   "metadata": {},
   "source": [
    "### Download data:\n",
    "Once you have the starter code (regardless of which method you choose above), you will need to download the CIFAR-10 dataset. Run the following from the HW3 directory:\n",
    "\n",
    "```cd cs231n/datasets\n",
    "./get_datasets.sh\n",
    "```"
   ]
  },
  {
   "cell_type": "code",
   "execution_count": 2,
   "metadata": {},
   "outputs": [
    {
     "name": "stdout",
     "output_type": "stream",
     "text": [
      "('X_train: ', (49000, 3, 32, 32))\n",
      "('y_train: ', (49000,))\n",
      "('X_val: ', (1000, 3, 32, 32))\n",
      "('y_val: ', (1000,))\n",
      "('X_test: ', (1000, 3, 32, 32))\n",
      "('y_test: ', (1000,))\n"
     ]
    }
   ],
   "source": [
    "# Load the (preprocessed) CIFAR10 data.\n",
    "# cd cs231n/datasets\n",
    "# ./get_datasets.sh\n",
    "\n",
    "data = get_CIFAR10_data()\n",
    "for k, v in list(data.items()):\n",
    "  print(('%s: ' % k, v.shape))"
   ]
  },
  {
   "cell_type": "markdown",
   "metadata": {},
   "source": [
    "# Affine layer: foward [10pts]\n",
    "Open the file `cs231n/layers.py` and implement the `affine_forward` function.\n",
    "\n",
    "Once you are done you can test your implementaion by running the following:"
   ]
  },
  {
   "cell_type": "code",
   "execution_count": 3,
   "metadata": {},
   "outputs": [
    {
     "name": "stdout",
     "output_type": "stream",
     "text": [
      "Testing affine_forward function:\n",
      "difference:  9.769847728806635e-10\n"
     ]
    }
   ],
   "source": [
    "# Test the affine_forward function\n",
    "\n",
    "num_inputs = 2\n",
    "input_shape = (4, 5, 6)\n",
    "output_dim = 3\n",
    "\n",
    "input_size = num_inputs * np.prod(input_shape)\n",
    "weight_size = output_dim * np.prod(input_shape)\n",
    "\n",
    "x = np.linspace(-0.1, 0.5, num=input_size).reshape(num_inputs, *input_shape)\n",
    "w = np.linspace(-0.2, 0.3, num=weight_size).reshape(np.prod(input_shape), output_dim)\n",
    "b = np.linspace(-0.3, 0.1, num=output_dim)\n",
    "\n",
    "# print(\"x: \",x)\n",
    "# print(\"w: \",w)\n",
    "# print(\"b: \",b)\n",
    "\n",
    "# print(\"x.shape: \",x.shape)\n",
    "# print(\"w.shape: \",w.shape)\n",
    "# print(\"b.shape: \",b.shape)\n",
    "\n",
    "out, _ = affine_forward(x, w, b)\n",
    "# print(\"out: \", out)\n",
    "correct_out = np.array([[ 1.49834967,  1.70660132,  1.91485297],\n",
    "                        [ 3.25553199,  3.5141327,   3.77273342]])\n",
    "\n",
    "# Compare your output with ours. The error should be around e-9 or less.\n",
    "print('Testing affine_forward function:')\n",
    "print('difference: ', rel_error(out, correct_out)) # The error is 9.769847728806635e-10 which is less than e-9"
   ]
  },
  {
   "cell_type": "markdown",
   "metadata": {},
   "source": [
    "# Affine layer: backward [10pts]\n",
    "Now implement the `affine_backward` function and test your implementation using numeric gradient checking."
   ]
  },
  {
   "cell_type": "code",
   "execution_count": 4,
   "metadata": {},
   "outputs": [
    {
     "name": "stdout",
     "output_type": "stream",
     "text": [
      "Testing affine_backward function:\n",
      "dx error:  5.399100368651805e-11\n",
      "dw error:  9.904211865398145e-11\n",
      "db error:  2.4122867568119087e-11\n"
     ]
    }
   ],
   "source": [
    "# Test the affine_backward function\n",
    "np.random.seed(231)\n",
    "x = np.random.randn(10, 2, 3)\n",
    "w = np.random.randn(6, 5)\n",
    "b = np.random.randn(5)\n",
    "dout = np.random.randn(10, 5)\n",
    "\n",
    "'''Debugging the values from affine_forward'''\n",
    "# print(\"a: \", affine_forward(x, w, b)[0])\n",
    "# print(\"a_full: \", affine_forward(x, w, b))\n",
    "\n",
    "dx_num = eval_numerical_gradient_array(lambda x: affine_forward(x, w, b)[0], x, dout)\n",
    "dw_num = eval_numerical_gradient_array(lambda w: affine_forward(x, w, b)[0], w, dout)\n",
    "db_num = eval_numerical_gradient_array(lambda b: affine_forward(x, w, b)[0], b, dout)\n",
    "\n",
    "'''Debugging the dimensions of dx, dw, db'''\n",
    "# print('dx_num.shape: ', dx_num.shape)\n",
    "# print('dw_num.shape: ', dw_num.shape)\n",
    "# print('db_num.shape: ', db_num.shape)\n",
    "\n",
    "_, cache = affine_forward(x, w, b)\n",
    "dx, dw, db = affine_backward(dout, cache)\n",
    "\n",
    "# The error should be around e-10 or less\n",
    "print('Testing affine_backward function:')\n",
    "print('dx error: ', rel_error(dx_num, dx)) # The error is 5.399100368651805e-11 which is less than e-9\n",
    "print('dw error: ', rel_error(dw_num, dw)) # The error is 9.904211865398145e-11 which is less than e-9\n",
    "print('db error: ', rel_error(db_num, db)) # The error is 2.4122867568119087e-11 which is less than e-9"
   ]
  },
  {
   "cell_type": "markdown",
   "metadata": {},
   "source": [
    "# ReLU activation: forward [5pts]\n",
    "Implement the forward pass for the ReLU activation function in the `relu_forward` function and test your implementation using the following:"
   ]
  },
  {
   "cell_type": "code",
   "execution_count": 5,
   "metadata": {},
   "outputs": [
    {
     "name": "stdout",
     "output_type": "stream",
     "text": [
      "Testing relu_forward function:\n",
      "difference:  4.999999798022158e-08\n"
     ]
    }
   ],
   "source": [
    "# Test the relu_forward function\n",
    "\n",
    "x = np.linspace(-0.5, 0.5, num=12).reshape(3, 4)\n",
    "\n",
    "out, _ = relu_forward(x)\n",
    "correct_out = np.array([[ 0.,          0.,          0.,          0.,        ],\n",
    "                        [ 0.,          0.,          0.04545455,  0.13636364,],\n",
    "                        [ 0.22727273,  0.31818182,  0.40909091,  0.5,       ]])\n",
    "\n",
    "# Compare your output with ours. The error should be on the order of e-8\n",
    "print('Testing relu_forward function:')\n",
    "print('difference: ', rel_error(out, correct_out)) # The error 4.999999798022158e-08 is on the order of e-8"
   ]
  },
  {
   "cell_type": "markdown",
   "metadata": {},
   "source": [
    "# ReLU activation: backward [5pts]\n",
    "Now implement the backward pass for the ReLU activation function in the `relu_backward` function and test your implementation using numeric gradient checking:"
   ]
  },
  {
   "cell_type": "code",
   "execution_count": 6,
   "metadata": {},
   "outputs": [
    {
     "name": "stdout",
     "output_type": "stream",
     "text": [
      "Testing relu_backward function:\n",
      "dx error:  3.2756349136310288e-12\n"
     ]
    }
   ],
   "source": [
    "np.random.seed(231)\n",
    "x = np.random.randn(10, 10)\n",
    "dout = np.random.randn(*x.shape)\n",
    "\n",
    "dx_num = eval_numerical_gradient_array(lambda x: relu_forward(x)[0], x, dout)\n",
    "\n",
    "_, cache = relu_forward(x)\n",
    "dx = relu_backward(dout, cache)\n",
    "\n",
    "# The error should be on the order of e-12\n",
    "print('Testing relu_backward function:')\n",
    "print('dx error: ', rel_error(dx_num, dx)) # The error 3.2756349136310288e-12 is on the order of e-12"
   ]
  },
  {
   "cell_type": "markdown",
   "metadata": {},
   "source": [
    "## Inline Question 1: \n",
    "\n",
    "We've only asked you to implement ReLU, but there are a number of different activation functions that one could use in neural networks, each with its pros and cons. In particular, an issue commonly seen with activation functions is getting zero (or close to zero) gradient flow during backpropagation. Which of the following activation functions have this problem? If you consider these functions in the one dimensional case, what types of input would lead to this behaviour?\n",
    "1. Sigmoid\n",
    "2. ReLU\n",
    "3. Leaky ReLU"
   ]
  },
  {
   "cell_type": "markdown",
   "metadata": {},
   "source": [
    "## Answer:\n",
    "Both **Sigmoid** and **ReLU** functions have the mentioned problem. \n",
    "\n",
    "**1. Sigmoid:** The Sigmoid function squashes the inputs in the range of 0 and 1. For large positive values it becomes 1 and for negative values it becomes 0. As a result, some of the neurons can get saturated at either 0 or 1 ends. The gradients at either 0 or 1 ends are zero. During back-propagation, this gradient is going to be multiplied with the output gradient flow for that neuron. Therefore, for these small gradient values, many of the neurons can become \"dead\" and inactive. In one dimensional case, very large positive or very large negative values will lead to this behaviour. \n",
    "\n",
    "\n",
    "**2. ReLU:** If most of the inputs to ReLU function are positive, then the ReLU gate will remain. In this case, the gradient will flow through ReLU and will be updated through back-propagation. However, if most of the inputs are negatives, the ReLU gates will remain closed. As a result, the gradients will fail to flow through ReLU and will remain zero. Therefore, if most of the inputs are negative, it can lead to the \"dead\" neurons in ReLU. "
   ]
  },
  {
   "cell_type": "markdown",
   "metadata": {},
   "source": [
    "# \"Sandwich\" layers\n",
    "There are some common patterns of layers that are frequently used in neural nets. For example, affine layers are frequently followed by a ReLU nonlinearity. To make these common patterns easy, we define several convenience layers in the file `cs231n/layer_utils.py`.\n",
    "\n",
    "For now take a look at the `affine_relu_forward` and `affine_relu_backward` functions, and run the following to numerically gradient check the backward pass:"
   ]
  },
  {
   "cell_type": "code",
   "execution_count": 7,
   "metadata": {},
   "outputs": [
    {
     "name": "stdout",
     "output_type": "stream",
     "text": [
      "Testing affine_relu_forward and affine_relu_backward:\n",
      "dx error:  6.750562121603446e-11\n",
      "dw error:  8.162015570444288e-11\n",
      "db error:  7.826724021458994e-12\n"
     ]
    }
   ],
   "source": [
    "from cs231n.layer_utils import affine_relu_forward, affine_relu_backward\n",
    "np.random.seed(231)\n",
    "x = np.random.randn(2, 3, 4)\n",
    "w = np.random.randn(12, 10)\n",
    "b = np.random.randn(10)\n",
    "dout = np.random.randn(2, 10)\n",
    "\n",
    "out, cache = affine_relu_forward(x, w, b)\n",
    "dx, dw, db = affine_relu_backward(dout, cache)\n",
    "\n",
    "dx_num = eval_numerical_gradient_array(lambda x: affine_relu_forward(x, w, b)[0], x, dout)\n",
    "dw_num = eval_numerical_gradient_array(lambda w: affine_relu_forward(x, w, b)[0], w, dout)\n",
    "db_num = eval_numerical_gradient_array(lambda b: affine_relu_forward(x, w, b)[0], b, dout)\n",
    "\n",
    "# Relative error should be around e-10 or less\n",
    "print('Testing affine_relu_forward and affine_relu_backward:')\n",
    "print('dx error: ', rel_error(dx_num, dx)) # The error is 6.750562121603446e-11 which is less than e-10\n",
    "print('dw error: ', rel_error(dw_num, dw)) # The error is 8.162015570444288e-11 which is less than e-10\n",
    "print('db error: ', rel_error(db_num, db)) # The error is 7.826724021458994e-12 which is less than e-10"
   ]
  },
  {
   "cell_type": "markdown",
   "metadata": {},
   "source": [
    "# Loss layers: Softmax [10pts]\n",
    "\n",
    "Now let's go back to `cs231n/layers.py` and implement the Softmax loss function in the `softmax_loss` function. See the noted in http://cs231n.github.io/neural-networks-case-study/#grad for a better understanding. \n",
    "\n",
    "Test your implementation using numeric gradient checking:"
   ]
  },
  {
   "cell_type": "code",
   "execution_count": 8,
   "metadata": {},
   "outputs": [
    {
     "name": "stdout",
     "output_type": "stream",
     "text": [
      "\n",
      "Testing softmax_loss:\n",
      "loss:  2.3025458445007376\n",
      "dx error:  8.234144091578429e-09\n"
     ]
    }
   ],
   "source": [
    "np.random.seed(231)\n",
    "num_classes, num_inputs = 10, 50\n",
    "x = 0.001 * np.random.randn(num_inputs, num_classes)\n",
    "y = np.random.randint(num_classes, size=num_inputs)\n",
    "\n",
    "\n",
    "dx_num = eval_numerical_gradient(lambda x: softmax_loss(x, y)[0], x, verbose=False)\n",
    "loss, dx = softmax_loss(x, y)\n",
    "\n",
    "# Test softmax_loss function. Loss should be close to 2.3 and dx error should be around e-8\n",
    "print('\\nTesting softmax_loss:')\n",
    "print('loss: ', loss) # loss:  2.3025458445007376\n",
    "print('dx error: ', rel_error(dx_num, dx)) # dx error:  8.234144091578429e-09 which is less than e-8"
   ]
  },
  {
   "cell_type": "markdown",
   "metadata": {},
   "source": [
    "# Two-layer network [20pts]\n",
    "Now that you have implemented modular versions of the necessary layers, you will reimplement the two layer network using these modular implementations.\n",
    "\n",
    "Open the file `cs231n/classifiers/fc_net.py` and complete the implementation of the `TwoLayerNet` class. This class will serve as a model for the other networks you will implement in this assignment, so read through it to make sure you understand the API. You can run the cell below to test your implementation."
   ]
  },
  {
   "cell_type": "code",
   "execution_count": 9,
   "metadata": {},
   "outputs": [
    {
     "name": "stdout",
     "output_type": "stream",
     "text": [
      "Testing initialization ... \n",
      "Testing test-time forward pass ... \n",
      "Testing training loss (no regularization)\n",
      "Running numeric gradient check with reg =  0.0\n",
      "W1 relative error: 1.22e-08\n",
      "W2 relative error: 3.48e-10\n",
      "b1 relative error: 6.55e-09\n",
      "b2 relative error: 4.33e-10\n",
      "Running numeric gradient check with reg =  0.7\n",
      "W1 relative error: 3.12e-07\n",
      "W2 relative error: 7.98e-08\n",
      "b1 relative error: 1.56e-08\n",
      "b2 relative error: 7.76e-10\n"
     ]
    }
   ],
   "source": [
    "np.random.seed(231)\n",
    "N, D, H, C = 3, 5, 50, 7\n",
    "X = np.random.randn(N, D)\n",
    "y = np.random.randint(C, size=N)\n",
    "\n",
    "std = 1e-3\n",
    "model = TwoLayerNet(input_dim=D, hidden_dim=H, num_classes=C, weight_scale=std)\n",
    "\n",
    "print('Testing initialization ... ')\n",
    "W1_std = abs(model.params['W1'].std() - std)\n",
    "b1 = model.params['b1']\n",
    "W2_std = abs(model.params['W2'].std() - std)\n",
    "b2 = model.params['b2']\n",
    "assert W1_std < std / 10, 'First layer weights do not seem right'\n",
    "assert np.all(b1 == 0), 'First layer biases do not seem right'\n",
    "assert W2_std < std / 10, 'Second layer weights do not seem right'\n",
    "assert np.all(b2 == 0), 'Second layer biases do not seem right'\n",
    "\n",
    "print('Testing test-time forward pass ... ')\n",
    "model.params['W1'] = np.linspace(-0.7, 0.3, num=D*H).reshape(D, H)\n",
    "model.params['b1'] = np.linspace(-0.1, 0.9, num=H)\n",
    "model.params['W2'] = np.linspace(-0.3, 0.4, num=H*C).reshape(H, C)\n",
    "model.params['b2'] = np.linspace(-0.9, 0.1, num=C)\n",
    "X = np.linspace(-5.5, 4.5, num=N*D).reshape(D, N).T\n",
    "scores = model.loss(X)\n",
    "correct_scores = np.asarray(\n",
    "  [[11.53165108,  12.2917344,   13.05181771,  13.81190102,  14.57198434, 15.33206765,  16.09215096],\n",
    "   [12.05769098,  12.74614105,  13.43459113,  14.1230412,   14.81149128, 15.49994135,  16.18839143],\n",
    "   [12.58373087,  13.20054771,  13.81736455,  14.43418138,  15.05099822, 15.66781506,  16.2846319 ]])\n",
    "scores_diff = np.abs(scores - correct_scores).sum()\n",
    "assert scores_diff < 1e-6, 'Problem with test-time forward pass'\n",
    "\n",
    "print('Testing training loss (no regularization)')\n",
    "y = np.asarray([0, 5, 1])\n",
    "loss, grads = model.loss(X, y)\n",
    "correct_loss = 3.4702243556\n",
    "assert abs(loss - correct_loss) < 1e-10, 'Problem with training-time loss'\n",
    "\n",
    "model.reg = 1.0\n",
    "loss, grads = model.loss(X, y)\n",
    "correct_loss = 26.5948426952\n",
    "assert abs(loss - correct_loss) < 1e-10, 'Problem with regularization loss'\n",
    "\n",
    "# Errors should be around e-7 or less\n",
    "for reg in [0.0, 0.7]:\n",
    "  print('Running numeric gradient check with reg = ', reg)\n",
    "  model.reg = reg\n",
    "  loss, grads = model.loss(X, y)\n",
    "\n",
    "  for name in sorted(grads):\n",
    "    f = lambda _: model.loss(X, y)[0]\n",
    "    grad_num = eval_numerical_gradient(f, model.params[name], verbose=False)\n",
    "    print('%s relative error: %.2e' % (name, rel_error(grad_num, grads[name])))"
   ]
  },
  {
   "cell_type": "markdown",
   "metadata": {},
   "source": [
    "# Solver [10pts]\n",
    "Open the file `cs231n/solver.py` and read through it to familiarize yourself with the API. After doing so, use a `Solver` instance to train a `TwoLayerNet` that achieves at least `50%` accuracy on the validation set."
   ]
  },
  {
   "cell_type": "code",
   "execution_count": 10,
   "metadata": {},
   "outputs": [
    {
     "name": "stdout",
     "output_type": "stream",
     "text": [
      "(Iteration 1 / 1960) loss: 2.301428\n",
      "(Epoch 0 / 20) train acc: 0.172000; val_acc: 0.166000\n",
      "(Epoch 1 / 20) train acc: 0.349000; val_acc: 0.372000\n",
      "(Iteration 101 / 1960) loss: 1.777971\n",
      "(Epoch 2 / 20) train acc: 0.398000; val_acc: 0.432000\n",
      "(Iteration 201 / 1960) loss: 1.607833\n",
      "(Epoch 3 / 20) train acc: 0.426000; val_acc: 0.460000\n",
      "(Iteration 301 / 1960) loss: 1.565633\n",
      "(Epoch 4 / 20) train acc: 0.482000; val_acc: 0.470000\n",
      "(Iteration 401 / 1960) loss: 1.541749\n",
      "(Epoch 5 / 20) train acc: 0.480000; val_acc: 0.467000\n",
      "(Iteration 501 / 1960) loss: 1.401742\n",
      "(Epoch 6 / 20) train acc: 0.505000; val_acc: 0.473000\n",
      "(Iteration 601 / 1960) loss: 1.436941\n",
      "(Epoch 7 / 20) train acc: 0.517000; val_acc: 0.488000\n",
      "(Iteration 701 / 1960) loss: 1.387247\n",
      "(Epoch 8 / 20) train acc: 0.505000; val_acc: 0.500000\n",
      "(Iteration 801 / 1960) loss: 1.278047\n",
      "(Epoch 9 / 20) train acc: 0.545000; val_acc: 0.494000\n",
      "(Iteration 901 / 1960) loss: 1.370855\n",
      "(Epoch 10 / 20) train acc: 0.533000; val_acc: 0.490000\n",
      "(Iteration 1001 / 1960) loss: 1.310259\n",
      "(Epoch 11 / 20) train acc: 0.547000; val_acc: 0.503000\n",
      "(Iteration 1101 / 1960) loss: 1.309120\n",
      "(Epoch 12 / 20) train acc: 0.573000; val_acc: 0.510000\n",
      "(Iteration 1201 / 1960) loss: 1.264587\n",
      "(Epoch 13 / 20) train acc: 0.548000; val_acc: 0.501000\n",
      "(Iteration 1301 / 1960) loss: 1.213422\n",
      "(Epoch 14 / 20) train acc: 0.560000; val_acc: 0.519000\n",
      "(Iteration 1401 / 1960) loss: 1.252193\n",
      "(Epoch 15 / 20) train acc: 0.583000; val_acc: 0.504000\n",
      "(Iteration 1501 / 1960) loss: 1.254819\n",
      "(Epoch 16 / 20) train acc: 0.561000; val_acc: 0.511000\n",
      "(Iteration 1601 / 1960) loss: 1.178193\n",
      "(Epoch 17 / 20) train acc: 0.571000; val_acc: 0.518000\n",
      "(Iteration 1701 / 1960) loss: 1.155044\n",
      "(Epoch 18 / 20) train acc: 0.581000; val_acc: 0.517000\n",
      "(Iteration 1801 / 1960) loss: 1.169525\n",
      "(Epoch 19 / 20) train acc: 0.584000; val_acc: 0.508000\n",
      "(Iteration 1901 / 1960) loss: 1.269117\n",
      "(Epoch 20 / 20) train acc: 0.605000; val_acc: 0.519000\n"
     ]
    }
   ],
   "source": [
    "model = TwoLayerNet()\n",
    "solver = None\n",
    "\n",
    "num_epochs = 20\n",
    "batch_size = 500\n",
    "\n",
    "regs = [1e-4]\n",
    "learning_rates = [1e-3]\n",
    "hyper_params = zip(learning_rates, regs)\n",
    "\n",
    "##############################################################################\n",
    "# TODO: Use a Solver instance to train a TwoLayerNet that achieves at least  #\n",
    "# 50% accuracy on the validation set.                                        #\n",
    "##############################################################################\n",
    "# print('data: ', data)\n",
    "model = TwoLayerNet(hidden_dim=100, reg = regs[0])\n",
    "solver = Solver(model, data, \n",
    "                optim_config={\"learning_rate\":learning_rates[0]}, \n",
    "                num_epochs=num_epochs, batch_size=batch_size,\n",
    "                print_every=100)\n",
    "solver.train()\n",
    "##############################################################################\n",
    "#                             END OF YOUR CODE                               #\n",
    "##############################################################################"
   ]
  },
  {
   "cell_type": "code",
   "execution_count": 11,
   "metadata": {},
   "outputs": [
    {
     "data": {
      "image/png": "[encoded data removed]",
      "text/plain": [
       "<Figure size 1080x864 with 2 Axes>"
      ]
     },
     "metadata": {
      "needs_background": "light"
     },
     "output_type": "display_data"
    }
   ],
   "source": [
    "# Run this cell to visualize training loss and train / val accuracy\n",
    "\n",
    "plt.subplot(2, 1, 1)\n",
    "plt.title('Training loss')\n",
    "plt.plot(solver.loss_history, 'o')\n",
    "plt.xlabel('Iteration')\n",
    "\n",
    "plt.subplot(2, 1, 2)\n",
    "plt.title('Accuracy')\n",
    "plt.plot(solver.train_acc_history, '-o', label='train')\n",
    "plt.plot(solver.val_acc_history, '-o', label='val')\n",
    "plt.plot([0.5] * len(solver.val_acc_history), 'k--')\n",
    "plt.xlabel('Epoch')\n",
    "plt.legend(loc='lower right')\n",
    "plt.gcf().set_size_inches(15, 12)\n",
    "plt.show()"
   ]
  },
  {
   "cell_type": "markdown",
   "metadata": {},
   "source": [
    "# Multilayer network [20pts]\n",
    "Next you will implement a fully-connected network with an arbitrary number of hidden layers.\n",
    "\n",
    "Read through the `FullyConnectedNet` class in the file `cs231n/classifiers/fc_net.py`.\n",
    "\n",
    "Implement the initialization, the forward pass, and the backward pass. For the moment don't worry about implementing dropout or batch/layer normalization; we will add those features soon."
   ]
  },
  {
   "cell_type": "markdown",
   "metadata": {},
   "source": [
    "## Initial loss and gradient check"
   ]
  },
  {
   "cell_type": "markdown",
   "metadata": {},
   "source": [
    "As a sanity check, run the following to check the initial loss and to gradient check the network both with and without regularization. Do the initial losses seem reasonable?\n",
    "\n",
    "For gradient checking, you should expect to see errors around 1e-7 or less."
   ]
  },
  {
   "cell_type": "code",
   "execution_count": 12,
   "metadata": {},
   "outputs": [
    {
     "name": "stdout",
     "output_type": "stream",
     "text": [
      "Running check with reg =  0\n",
      "Initial loss:  2.300479089768492\n",
      "W1 relative error: 1.03e-07\n",
      "W2 relative error: 2.21e-05\n",
      "W3 relative error: 4.56e-07\n",
      "b1 relative error: 4.66e-09\n",
      "b2 relative error: 2.09e-09\n",
      "b3 relative error: 1.69e-10\n",
      "Running check with reg =  3.14\n",
      "Initial loss:  7.052114776533016\n",
      "W1 relative error: 1.41e-08\n",
      "W2 relative error: 6.87e-08\n",
      "W3 relative error: 2.13e-08\n",
      "b1 relative error: 1.48e-08\n",
      "b2 relative error: 1.72e-09\n",
      "b3 relative error: 2.38e-10\n"
     ]
    }
   ],
   "source": [
    "np.random.seed(231)\n",
    "N, D, H1, H2, C = 2, 15, 20, 30, 10\n",
    "X = np.random.randn(N, D)\n",
    "y = np.random.randint(C, size=(N,))\n",
    "\n",
    "for reg in [0, 3.14]:\n",
    "  print('Running check with reg = ', reg)\n",
    "  model = FullyConnectedNet([H1, H2], input_dim=D, num_classes=C,\n",
    "                            reg=reg, weight_scale=5e-2, dtype=np.float64)\n",
    "\n",
    "  loss, grads = model.loss(X, y)\n",
    "  print('Initial loss: ', loss)\n",
    "  \n",
    "  # Most of the errors should be on the order of e-7 or smaller.   \n",
    "  # NOTE: It is fine however to see an error for W2 on the order of e-5\n",
    "  # for the check when reg = 0.0\n",
    "  for name in sorted(grads):\n",
    "    f = lambda _: model.loss(X, y)[0]\n",
    "    grad_num = eval_numerical_gradient(f, model.params[name], verbose=False, h=1e-5)\n",
    "    print('%s relative error: %.2e' % (name, rel_error(grad_num, grads[name])))"
   ]
  },
  {
   "cell_type": "markdown",
   "metadata": {},
   "source": [
    "As another sanity check, make sure you can overfit a small dataset of 50 images. First we will try a three-layer network with 100 units in each hidden layer. In the following cell, tweak the learning rate and initialization scale to overfit and achieve 100% training accuracy within 20 epochs."
   ]
  },
  {
   "cell_type": "code",
   "execution_count": 13,
   "metadata": {
    "scrolled": false
   },
   "outputs": [
    {
     "name": "stdout",
     "output_type": "stream",
     "text": [
      "(Iteration 1 / 40) loss: 44.720838\n",
      "(Epoch 0 / 20) train acc: 0.140000; val_acc: 0.124000\n",
      "(Epoch 1 / 20) train acc: 0.220000; val_acc: 0.136000\n",
      "(Epoch 2 / 20) train acc: 0.460000; val_acc: 0.140000\n",
      "(Epoch 3 / 20) train acc: 0.620000; val_acc: 0.144000\n",
      "(Epoch 4 / 20) train acc: 0.700000; val_acc: 0.173000\n",
      "(Epoch 5 / 20) train acc: 0.720000; val_acc: 0.193000\n",
      "(Iteration 11 / 40) loss: 0.263596\n",
      "(Epoch 6 / 20) train acc: 0.780000; val_acc: 0.167000\n",
      "(Epoch 7 / 20) train acc: 0.920000; val_acc: 0.163000\n",
      "(Epoch 8 / 20) train acc: 0.980000; val_acc: 0.169000\n",
      "(Epoch 9 / 20) train acc: 0.980000; val_acc: 0.164000\n",
      "(Epoch 10 / 20) train acc: 0.980000; val_acc: 0.166000\n",
      "(Iteration 21 / 40) loss: 0.825324\n",
      "(Epoch 11 / 20) train acc: 1.000000; val_acc: 0.166000\n",
      "(Epoch 12 / 20) train acc: 1.000000; val_acc: 0.164000\n",
      "(Epoch 13 / 20) train acc: 1.000000; val_acc: 0.165000\n",
      "(Epoch 14 / 20) train acc: 1.000000; val_acc: 0.164000\n",
      "(Epoch 15 / 20) train acc: 1.000000; val_acc: 0.165000\n",
      "(Iteration 31 / 40) loss: 0.002986\n",
      "(Epoch 16 / 20) train acc: 1.000000; val_acc: 0.165000\n",
      "(Epoch 17 / 20) train acc: 1.000000; val_acc: 0.165000\n",
      "(Epoch 18 / 20) train acc: 1.000000; val_acc: 0.165000\n",
      "(Epoch 19 / 20) train acc: 1.000000; val_acc: 0.165000\n",
      "(Epoch 20 / 20) train acc: 1.000000; val_acc: 0.164000\n"
     ]
    },
    {
     "data": {
      "image/png": "[encoded data removed]",
      "text/plain": [
       "<Figure size 432x288 with 1 Axes>"
      ]
     },
     "metadata": {
      "needs_background": "light"
     },
     "output_type": "display_data"
    }
   ],
   "source": [
    "# TODO: Use a three-layer Net to overfit 50 training examples by \n",
    "# tweaking just the learning rate and initialization scale.\n",
    "\n",
    "num_train = 50\n",
    "small_data = {\n",
    "  'X_train': data['X_train'][:num_train],\n",
    "  'y_train': data['y_train'][:num_train],\n",
    "  'X_val': data['X_val'],\n",
    "  'y_val': data['y_val'],\n",
    "}\n",
    "\n",
    "weight_scale = 5e-2\n",
    "learning_rate = 7e-4\n",
    "model = FullyConnectedNet([100, 100],\n",
    "              weight_scale=weight_scale, dtype=np.float64)\n",
    "solver = Solver(model, small_data,\n",
    "                print_every=10, num_epochs=20, batch_size=25,\n",
    "                update_rule='sgd',\n",
    "                optim_config={\n",
    "                  'learning_rate': learning_rate,\n",
    "                }\n",
    "         )\n",
    "solver.train()\n",
    "\n",
    "plt.plot(solver.loss_history, 'o')\n",
    "plt.title('Training loss history')\n",
    "plt.xlabel('Iteration')\n",
    "plt.ylabel('Training loss')\n",
    "plt.show()"
   ]
  },
  {
   "cell_type": "markdown",
   "metadata": {},
   "source": [
    "Now try to use a five-layer network with 100 units on each layer to overfit 50 training examples. Again you will have to adjust the learning rate and weight initialization, but you should be able to achieve 100% training accuracy within 20 epochs."
   ]
  },
  {
   "cell_type": "code",
   "execution_count": 14,
   "metadata": {},
   "outputs": [
    {
     "name": "stdout",
     "output_type": "stream",
     "text": [
      "(Iteration 1 / 40) loss: 5.557032\n",
      "(Epoch 0 / 20) train acc: 0.220000; val_acc: 0.110000\n",
      "(Epoch 1 / 20) train acc: 0.220000; val_acc: 0.084000\n",
      "(Epoch 2 / 20) train acc: 0.320000; val_acc: 0.130000\n",
      "(Epoch 3 / 20) train acc: 0.560000; val_acc: 0.130000\n",
      "(Epoch 4 / 20) train acc: 0.720000; val_acc: 0.127000\n",
      "(Epoch 5 / 20) train acc: 0.860000; val_acc: 0.127000\n",
      "(Iteration 11 / 40) loss: 1.031002\n",
      "(Epoch 6 / 20) train acc: 0.860000; val_acc: 0.131000\n",
      "(Epoch 7 / 20) train acc: 0.920000; val_acc: 0.137000\n",
      "(Epoch 8 / 20) train acc: 0.920000; val_acc: 0.139000\n",
      "(Epoch 9 / 20) train acc: 0.960000; val_acc: 0.134000\n",
      "(Epoch 10 / 20) train acc: 0.960000; val_acc: 0.145000\n",
      "(Iteration 21 / 40) loss: 0.367056\n",
      "(Epoch 11 / 20) train acc: 0.960000; val_acc: 0.137000\n",
      "(Epoch 12 / 20) train acc: 1.000000; val_acc: 0.145000\n",
      "(Epoch 13 / 20) train acc: 1.000000; val_acc: 0.137000\n",
      "(Epoch 14 / 20) train acc: 1.000000; val_acc: 0.132000\n",
      "(Epoch 15 / 20) train acc: 1.000000; val_acc: 0.130000\n",
      "(Iteration 31 / 40) loss: 0.195401\n",
      "(Epoch 16 / 20) train acc: 1.000000; val_acc: 0.137000\n",
      "(Epoch 17 / 20) train acc: 1.000000; val_acc: 0.145000\n",
      "(Epoch 18 / 20) train acc: 1.000000; val_acc: 0.148000\n",
      "(Epoch 19 / 20) train acc: 1.000000; val_acc: 0.140000\n",
      "(Epoch 20 / 20) train acc: 1.000000; val_acc: 0.129000\n"
     ]
    },
    {
     "data": {
      "image/png": "[encoded data removed]",
      "text/plain": [
       "<Figure size 432x288 with 1 Axes>"
      ]
     },
     "metadata": {
      "needs_background": "light"
     },
     "output_type": "display_data"
    }
   ],
   "source": [
    "# TODO: Use a five-layer Net to overfit 50 training examples by \n",
    "# tweaking just the learning rate and initialization scale.\n",
    "\n",
    "num_train = 50\n",
    "small_data = {\n",
    "  'X_train': data['X_train'][:num_train],\n",
    "  'y_train': data['y_train'][:num_train],\n",
    "  'X_val': data['X_val'],\n",
    "  'y_val': data['y_val'],\n",
    "}\n",
    "\n",
    "learning_rate = 7e-3\n",
    "weight_scale  = 5e-2\n",
    "model = FullyConnectedNet([100, 100, 100, 100],\n",
    "                weight_scale=weight_scale, dtype=np.float64)\n",
    "solver = Solver(model, small_data,\n",
    "                print_every=10, num_epochs=20, batch_size=25,\n",
    "                update_rule='sgd',\n",
    "                optim_config={\n",
    "                  'learning_rate': learning_rate,\n",
    "                }\n",
    "         )\n",
    "solver.train()\n",
    "\n",
    "plt.plot(solver.loss_history, 'o')\n",
    "plt.title('Training loss history')\n",
    "plt.xlabel('Iteration')\n",
    "plt.ylabel('Training loss')\n",
    "plt.show()"
   ]
  },
  {
   "cell_type": "code",
   "execution_count": 15,
   "metadata": {},
   "outputs": [
    {
     "data": {
      "image/png": "[encoded data removed]",
      "text/plain": [
       "<Figure size 1080x864 with 2 Axes>"
      ]
     },
     "metadata": {
      "needs_background": "light"
     },
     "output_type": "display_data"
    }
   ],
   "source": [
    "# Run this cell to visualize training loss and train / val accuracy\n",
    "\n",
    "plt.subplot(2, 1, 1)\n",
    "plt.title('Training loss')\n",
    "plt.plot(solver.loss_history, 'o')\n",
    "plt.xlabel('Iteration')\n",
    "\n",
    "plt.subplot(2, 1, 2)\n",
    "plt.title('Accuracy')\n",
    "plt.plot(solver.train_acc_history, '-o', label='train')\n",
    "plt.plot(solver.val_acc_history, '-o', label='val')\n",
    "plt.plot([0.5] * len(solver.val_acc_history), 'k--')\n",
    "plt.xlabel('Epoch')\n",
    "plt.legend(loc='lower right')\n",
    "plt.gcf().set_size_inches(15, 12)\n",
    "plt.show()"
   ]
  },
  {
   "cell_type": "markdown",
   "metadata": {},
   "source": [
    "## Inline Question 2: \n",
    "Did you notice anything about the comparative difficulty of training the three-layer net vs training the five layer net? In particular, based on your experience, which network seemed more sensitive to the initialization scale? Why do you think that is the case?"
   ]
  },
  {
   "cell_type": "markdown",
   "metadata": {},
   "source": [
    "## Answer:\n",
    "\n",
    "Based on my experience, training the five layer network was harder than training the three layer network. The five layer network is more sensitive to the initialization scale (weight scale) than three layer network. This is because the five layer neural network has a higher probability of getting its weight decrease to zero since it has deeper network compared to three layer network. Therefore, we need higher initialization scale (weight scale) and bigger learning rate for the five layer network compared to the three layer network."
   ]
  },
  {
   "cell_type": "markdown",
   "metadata": {},
   "source": [
    "# Train a good model![10pts]\n",
    "Train the best fully-connected model that you can on CIFAR-10, storing your best model in the `best_model` variable. We require you to get at least 50% accuracy on the validation set using a fully-connected net.\n",
    "\n",
    "If you are careful it should be possible to get accuracies above 55%, but we don't require it for this part and won't assign extra credit for doing so."
   ]
  },
  {
   "cell_type": "code",
   "execution_count": 16,
   "metadata": {
    "scrolled": false
   },
   "outputs": [
    {
     "name": "stdout",
     "output_type": "stream",
     "text": [
      "(Iteration 1 / 39200) loss: 135.131902\n",
      "(Epoch 0 / 20) train acc: 0.128000; val_acc: 0.134000\n",
      "(Iteration 1001 / 39200) loss: 74.849592\n",
      "(Epoch 1 / 20) train acc: 0.373000; val_acc: 0.366000\n",
      "(Iteration 2001 / 39200) loss: 62.361686\n",
      "(Iteration 3001 / 39200) loss: 52.644203\n",
      "(Epoch 2 / 20) train acc: 0.441000; val_acc: 0.415000\n",
      "(Iteration 4001 / 39200) loss: 44.605536\n",
      "(Iteration 5001 / 39200) loss: 38.207174\n",
      "(Epoch 3 / 20) train acc: 0.450000; val_acc: 0.428000\n",
      "(Iteration 6001 / 39200) loss: 32.339201\n",
      "(Iteration 7001 / 39200) loss: 27.912301\n",
      "(Epoch 4 / 20) train acc: 0.452000; val_acc: 0.458000\n",
      "(Iteration 8001 / 39200) loss: 24.460019\n",
      "(Iteration 9001 / 39200) loss: 21.405532\n",
      "(Epoch 5 / 20) train acc: 0.464000; val_acc: 0.476000\n",
      "(Iteration 10001 / 39200) loss: 18.658784\n",
      "(Iteration 11001 / 39200) loss: 16.425957\n",
      "(Epoch 6 / 20) train acc: 0.466000; val_acc: 0.489000\n",
      "(Iteration 12001 / 39200) loss: 14.461757\n",
      "(Iteration 13001 / 39200) loss: 12.987022\n",
      "(Epoch 7 / 20) train acc: 0.496000; val_acc: 0.481000\n",
      "(Iteration 14001 / 39200) loss: 11.521019\n",
      "(Iteration 15001 / 39200) loss: 10.431909\n",
      "(Epoch 8 / 20) train acc: 0.527000; val_acc: 0.470000\n",
      "(Iteration 16001 / 39200) loss: 9.051248\n",
      "(Iteration 17001 / 39200) loss: 8.442552\n",
      "(Epoch 9 / 20) train acc: 0.512000; val_acc: 0.487000\n",
      "(Iteration 18001 / 39200) loss: 7.719247\n",
      "(Iteration 19001 / 39200) loss: 6.943589\n",
      "(Epoch 10 / 20) train acc: 0.519000; val_acc: 0.496000\n",
      "(Iteration 20001 / 39200) loss: 6.559513\n",
      "(Iteration 21001 / 39200) loss: 6.139103\n",
      "(Epoch 11 / 20) train acc: 0.536000; val_acc: 0.507000\n",
      "(Iteration 22001 / 39200) loss: 5.344261\n",
      "(Iteration 23001 / 39200) loss: 4.884723\n",
      "(Epoch 12 / 20) train acc: 0.548000; val_acc: 0.499000\n",
      "(Iteration 24001 / 39200) loss: 4.627063\n",
      "(Iteration 25001 / 39200) loss: 4.556677\n",
      "(Epoch 13 / 20) train acc: 0.528000; val_acc: 0.500000\n",
      "(Iteration 26001 / 39200) loss: 4.207941\n",
      "(Iteration 27001 / 39200) loss: 3.927334\n",
      "(Epoch 14 / 20) train acc: 0.547000; val_acc: 0.510000\n",
      "(Iteration 28001 / 39200) loss: 3.940933\n",
      "(Iteration 29001 / 39200) loss: 3.689923\n",
      "(Epoch 15 / 20) train acc: 0.571000; val_acc: 0.505000\n",
      "(Iteration 30001 / 39200) loss: 3.281240\n",
      "(Iteration 31001 / 39200) loss: 3.301168\n",
      "(Epoch 16 / 20) train acc: 0.559000; val_acc: 0.519000\n",
      "(Iteration 32001 / 39200) loss: 3.226765\n",
      "(Iteration 33001 / 39200) loss: 2.951323\n",
      "(Epoch 17 / 20) train acc: 0.574000; val_acc: 0.507000\n",
      "(Iteration 34001 / 39200) loss: 2.792775\n",
      "(Iteration 35001 / 39200) loss: 2.737018\n",
      "(Epoch 18 / 20) train acc: 0.590000; val_acc: 0.522000\n",
      "(Iteration 36001 / 39200) loss: 2.756303\n",
      "(Iteration 37001 / 39200) loss: 2.486736\n",
      "(Epoch 19 / 20) train acc: 0.621000; val_acc: 0.514000\n",
      "(Iteration 38001 / 39200) loss: 2.381807\n",
      "(Iteration 39001 / 39200) loss: 2.248959\n",
      "(Epoch 20 / 20) train acc: 0.572000; val_acc: 0.516000\n"
     ]
    }
   ],
   "source": [
    "best_model = None\n",
    "################################################################################\n",
    "# TODO: Train the best FullyConnectedNet that you can on CIFAR-10. You might   #\n",
    "# find batch/layer normalization and dropout useful. Store your best model in  #\n",
    "# the best_model variable.                                                     #\n",
    "################################################################################\n",
    "weight_scale  = 5e-2\n",
    "learning_rate = 9e-4\n",
    "\n",
    "best_model = FullyConnectedNet(\n",
    "    [200, 200, 200],\n",
    "    weight_scale=weight_scale,\n",
    "    reg=0.1,\n",
    "    dtype=np.float64\n",
    ")\n",
    "\n",
    "solver = Solver(best_model, data,\n",
    "                print_every=1000, \n",
    "                num_epochs=20, \n",
    "                batch_size=25,\n",
    "                update_rule='sgd',\n",
    "                optim_config={\n",
    "                  'learning_rate': learning_rate,\n",
    "                },\n",
    "                lr_decay=0.95,\n",
    "                verbose=True\n",
    "         )\n",
    "\n",
    "solver.train()\n",
    "\n",
    "################################################################################\n",
    "#                              END OF YOUR CODE                                #\n",
    "################################################################################"
   ]
  },
  {
   "cell_type": "code",
   "execution_count": 19,
   "metadata": {},
   "outputs": [
    {
     "data": {
      "image/png": "[encoded data removed]",
      "text/plain": [
       "<Figure size 1080x864 with 2 Axes>"
      ]
     },
     "metadata": {
      "needs_background": "light"
     },
     "output_type": "display_data"
    }
   ],
   "source": [
    "# Run this cell to visualize training loss and train / val accuracy\n",
    "\n",
    "plt.subplot(2, 1, 1)\n",
    "plt.title('Training loss')\n",
    "plt.plot(solver.loss_history, 'o')\n",
    "plt.xlabel('Iteration')\n",
    "\n",
    "plt.subplot(2, 1, 2)\n",
    "plt.title('Accuracy')\n",
    "plt.plot(solver.train_acc_history, '-o', label='train')\n",
    "plt.plot(solver.val_acc_history, '-o', label='val')\n",
    "plt.plot([0.5] * len(solver.val_acc_history), 'k--')\n",
    "plt.xlabel('Epoch')\n",
    "plt.legend(loc='lower right')\n",
    "plt.gcf().set_size_inches(15, 12)\n",
    "plt.show()"
   ]
  },
  {
   "cell_type": "markdown",
   "metadata": {},
   "source": [
    "# Test your model! \n",
    "Run your best model on the validation and test sets. You should achieve above 50% accuracy on the validation set."
   ]
  },
  {
   "cell_type": "code",
   "execution_count": 20,
   "metadata": {},
   "outputs": [
    {
     "name": "stdout",
     "output_type": "stream",
     "text": [
      "Validation set accuracy:  0.522\n",
      "Test set accuracy:  0.533\n"
     ]
    }
   ],
   "source": [
    "# best_model = model\n",
    "\n",
    "y_test_pred = np.argmax(best_model.loss(data['X_test']), axis=1)\n",
    "y_val_pred = np.argmax(best_model.loss(data['X_val']), axis=1)\n",
    "print('Validation set accuracy: ', (y_val_pred == data['y_val']).mean())\n",
    "print('Test set accuracy: ', (y_test_pred == data['y_test']).mean())"
   ]
  }
 ],
 "metadata": {
  "kernelspec": {
   "display_name": "Python 3",
   "language": "python",
   "name": "python3"
  },
  "language_info": {
   "codemirror_mode": {
    "name": "ipython",
    "version": 3
   },
   "file_extension": ".py",
   "mimetype": "text/x-python",
   "name": "python",
   "nbconvert_exporter": "python",
   "pygments_lexer": "ipython3",
   "version": "3.7.1"
  }
 },
 "nbformat": 4,
 "nbformat_minor": 2
}
